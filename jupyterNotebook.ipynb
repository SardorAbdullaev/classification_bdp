{
 "cells": [
  {
   "cell_type": "markdown",
   "metadata": {
    "deletable": true,
    "editable": true
   },
   "source": [
    "<a href=\"#readinput\">Read input</a><br>\n",
    "<a href=\"#preprocess_sample_data\">Preprocess sample data</a><br>\n",
    "<a href=\"#corpuses\">Text preprocessing</a><br>\n",
    "<a href=\"#features\">Feature engineering</a><br>\n",
    "<a href=\"#advanced_features\">Advanced features</a><br>\n",
    "<a href=\"#image_caption\">Image Captioning</a><br>\n",
    "<a href=\"#Prediction\">Predictions</a>"
   ]
  },
  {
   "cell_type": "markdown",
   "metadata": {
    "deletable": true,
    "editable": true
   },
   "source": [
    "## Import libraries"
   ]
  },
  {
   "cell_type": "code",
   "execution_count": 40,
   "metadata": {
    "collapsed": false,
    "deletable": true,
    "editable": true
   },
   "outputs": [
    {
     "name": "stdout",
     "output_type": "stream",
     "text": [
      "/home/sardor_antje_kristina/bdp_bipm\n"
     ]
    }
   ],
   "source": [
    "%cd ~/bdp_bipm"
   ]
  },
  {
   "cell_type": "code",
   "execution_count": 1,
   "metadata": {
    "collapsed": false,
    "deletable": true,
    "editable": true
   },
   "outputs": [
    {
     "name": "stderr",
     "output_type": "stream",
     "text": [
      "/usr/local/lib/python3.5/dist-packages/sklearn/cross_validation.py:44: DeprecationWarning: This module was deprecated in version 0.18 in favor of the model_selection module into which all the refactored classes and functions are moved. Also note that the interface of the new CV iterators are different from that of this module. This module will be removed in 0.20.\n",
      "  \"This module will be removed in 0.20.\", DeprecationWarning)\n",
      "/usr/lib/python3/dist-packages/matplotlib/__init__.py:874: UserWarning: axes.color_cycle is deprecated and replaced with axes.prop_cycle; please use the latter.\n",
      "  warnings.warn(self.msg_depr % (key, alt_key))\n"
     ]
    }
   ],
   "source": [
    "import os, json, sys\n",
    "import shutil\n",
    "import multiprocessing\n",
    "from tempfile import mkdtemp\n",
    "from joblib import Memory\n",
    "import copy\n",
    "import pickle\n",
    "\n",
    "import pandas as pd\n",
    "import numpy as np\n",
    "import random\n",
    "from numpy import zeros\n",
    "from scipy.linalg import svd\n",
    "import scipy\n",
    "\n",
    "import nltk\n",
    "from nltk.corpus import stopwords\n",
    "from nltk.corpus import wordnet as wn\n",
    "from nltk.stem.lancaster import LancasterStemmer\n",
    "from nltk.tag.stanford import StanfordPOSTagger\n",
    "from nltk.corpus import words as nltk_words\n",
    "\n",
    "from scipy import misc\n",
    "from textblob import TextBlob\n",
    "import textacy\n",
    "import spacy\n",
    "from fuzzywuzzy import fuzz\n",
    "\n",
    "import gensim, logging\n",
    "from gensim import similarities\n",
    "from gensim.models import Phrases, word2vec, doc2vec\n",
    "from gensim.models.phrases import Phraser\n",
    "from gensim.models.keyedvectors import KeyedVectors\n",
    "import time\n",
    "from functools import reduce\n",
    "import matplotlib.pyplot as plt\n",
    "\n",
    "from xgboost import XGBClassifier\n",
    "import xgboost as xgb\n",
    "\n",
    "import seaborn as sns\n",
    "import string\n",
    "import math\n",
    "from urllib.parse import urlparse\n",
    "from collections import Counter\n",
    "\n",
    "from wordcloud import WordCloud\n",
    "from sklearn.naive_bayes import GaussianNB\n",
    "from sklearn.model_selection import train_test_split\n",
    "from sklearn import preprocessing\n",
    "from sklearn.pipeline import Pipeline\n",
    "from sklearn.pipeline import FeatureUnion\n",
    "from sklearn import linear_model\n",
    "from sklearn.preprocessing import FunctionTransformer\n",
    "from sklearn.ensemble import RandomForestClassifier\n",
    "from sklearn.preprocessing import Imputer\n",
    "from sklearn.preprocessing import StandardScaler\n",
    "from sklearn.feature_extraction.text import TfidfVectorizer, CountVectorizer\n",
    "from sklearn.decomposition import TruncatedSVD\n",
    "from sklearn.decomposition import PCA\n",
    "from sklearn.model_selection import GridSearchCV, RandomizedSearchCV\n",
    "from sklearn.base import BaseEstimator, TransformerMixin\n",
    "from imp import reload"
   ]
  },
  {
   "cell_type": "markdown",
   "metadata": {
    "deletable": true,
    "editable": true
   },
   "source": [
    "# Import Data From MongoDB"
   ]
  },
  {
   "cell_type": "markdown",
   "metadata": {
    "deletable": true,
    "editable": true
   },
   "source": [
    "## Define constants"
   ]
  },
  {
   "cell_type": "code",
   "execution_count": null,
   "metadata": {
    "collapsed": true,
    "deletable": true,
    "editable": true
   },
   "outputs": [],
   "source": [
    "#stTagger = StanfordPOSTagger(model_filename='../stanford-postagger-full-2016-10-31/models/english-bidirectional-distsim.tagger', \n",
    "#                       path_to_jar= '../stanford-postagger-full-2016-10-31/stanford-postagger.jar')\n",
    "w2vModel = KeyedVectors.load_word2vec_format('glove_6B_50d.txt', binary=False)\n",
    "lancas = LancasterStemmer()\n",
    "wnl = nltk.WordNetLemmatizer()\n",
    "\n",
    "prepositions = set([\"by\",\"around\", \"at\", \"away\", \"down\", \"in\", \"off\", \"on\", \"out\", \"over\", \"round\", \"up\", \"upon\", \"onto\", \"through\", \"against\", \"under\", \"aside\", \"between\", \"before\", \"with\", \"without\", \"forward\", \"behind\", \"without\", \"across\", \"as\", \"back\", \"apart\", \"after\", \"away\", \"towards\", \"ahead\", \"along\", \"of\", \"past\", \"aback\", \"about\", \"above\", \"apart\", \"aside\", \"way\", \"to\"])\n",
    "negationWords = set([\"not\",\"without\",\"no\",\"never\"])\n",
    "POS_list = [\"$\",\"''\",\"(\",\")\",\",\",\"--\",\".\",\":\",\"CC\",\"CD\",\"DT\",\"EX\",\"FW\",\"IN\",\"JJ\",\"JJR\",\"JJS\",\"LS\",\"MD\",\"NN\",\"NNP\",\"NNPS\",\"NNS\",\"PDT\",\"POS\",\"PRP\",\"PRP$\",\"RB\",\"RBR\",\"RBS\",\"RP\",\"SYM\",\"TO\",\"UH\",\"VB\",\"VBD\",\"VBG\",\"VBN\",\"VBP\",\"VBZ\",\"WDT\",\"WP\",\"WP$\",\"WRB\",\"``\"]\n",
    "NE_list = set([\"ORGANIZATION\",\"PERSON\",\"LOCATION\",\"DATE\",\"TIME\",\"MONEY\",\"PERCENT\",\"FACILITY\",\"GPE\"])\n",
    "posToWn = {\"N\":wn.NOUN,\"V\":wn.VERB,\"J\":wn.ADJ,\"R\":wn.ADV}"
   ]
  },
  {
   "cell_type": "markdown",
   "metadata": {
    "deletable": true,
    "editable": true
   },
   "source": [
    "## Global variables"
   ]
  },
  {
   "cell_type": "code",
   "execution_count": 3,
   "metadata": {
    "collapsed": false,
    "deletable": true,
    "editable": true
   },
   "outputs": [],
   "source": [
    "from columnconstants import *"
   ]
  },
  {
   "cell_type": "code",
   "execution_count": 4,
   "metadata": {
    "collapsed": true,
    "deletable": true,
    "editable": true
   },
   "outputs": [],
   "source": [
    "sample_of_rows_size = 100000 #max 1.4 mln\n",
    "sample_of_cats_size = 100 # max 860"
   ]
  },
  {
   "cell_type": "markdown",
   "metadata": {
    "deletable": true,
    "editable": true
   },
   "source": [
    "## Tuning parameters"
   ]
  },
  {
   "cell_type": "code",
   "execution_count": 6,
   "metadata": {
    "collapsed": false,
    "deletable": true,
    "editable": true
   },
   "outputs": [],
   "source": [
    "class TuningParameters:\n",
    "    title_importance = 1.0\n",
    "    form_phrases_count = 10\n",
    "    phrases_bigram_weight = 1.0\n",
    "    phrases_trigram_weight = 1.0\n",
    "    titles_weight = 1.0\n",
    "    fuzzy_word_threshold = 77\n",
    "    \n",
    "number_of_cores = max(multiprocessing.cpu_count() - 5,1)"
   ]
  },
  {
   "cell_type": "markdown",
   "metadata": {
    "deletable": true,
    "editable": true
   },
   "source": [
    "<p id=\"readinput\"/>\n",
    "### Read input (remove uncategorized and less than 10 lots in a category)\n",
    "Created objects:<br>\n",
    "<ul>\n",
    "<li>df_lots</li>\n",
    "<li>df_categories</li>\n",
    "</ul>"
   ]
  },
  {
   "cell_type": "code",
   "execution_count": 7,
   "metadata": {
    "collapsed": false,
    "deletable": true,
    "editable": true
   },
   "outputs": [],
   "source": [
    "def cut_off_uncategorised(df):\n",
    "    return df.loc[df[target_column]!=misc_categorylabel]\n",
    "\n",
    "def cut_off_cats(df,single_cats):\n",
    "    return df.loc[scipy.logical_not(df[target_column].isin(single_cats))]\n",
    "\n",
    "def boolToInt(x):\n",
    "    if x == \"True\":\n",
    "        return 1\n",
    "    else:\n",
    "        return 0\n",
    "    \n",
    "df_lots = pd.read_pickle(pickle_dir+\"df_lots_all.pkl\")\n",
    "df_categories = pd.read_pickle(pickle_dir+\"df_categories.pkl\")\n",
    "\n",
    "df_lots = df_lots[df_lots[target_column].notnull()]\n",
    "df_lots[\"is_from_marketplace\"] = df_lots[\"is_from_marketplace\"].apply(boolToInt)\n",
    "df_lots = cut_off_uncategorised(df_lots)\n",
    "\n",
    "single_cats = [k for k, v in Counter(df_lots[target_column]).items() if v < 50]\n",
    "df_lots = cut_off_cats(df_lots,single_cats)"
   ]
  },
  {
   "cell_type": "code",
   "execution_count": 101,
   "metadata": {
    "collapsed": true,
    "deletable": true,
    "editable": true
   },
   "outputs": [],
   "source": [
    "import DataExploration"
   ]
  },
  {
   "cell_type": "code",
   "execution_count": null,
   "metadata": {
    "collapsed": true,
    "deletable": true,
    "editable": true
   },
   "outputs": [],
   "source": [
    "df_lots[df_lots['manufacturer_normalized'].notnull()]['manufacturer_normalized']"
   ]
  },
  {
   "cell_type": "code",
   "execution_count": 108,
   "metadata": {
    "collapsed": false,
    "deletable": true,
    "editable": true
   },
   "outputs": [
    {
     "data": {
      "text/plain": [
       "4817"
      ]
     },
     "execution_count": 108,
     "metadata": {},
     "output_type": "execute_result"
    }
   ],
   "source": [
    "len(df_lots[df_lots['manufacturer_normalized'].notnull()]['manufacturer_normalized'].unique())"
   ]
  },
  {
   "cell_type": "code",
   "execution_count": 106,
   "metadata": {
    "collapsed": false,
    "deletable": true,
    "editable": true
   },
   "outputs": [
    {
     "data": {
      "image/png": "[encoded data removed]",
      "text/plain": [
       "<matplotlib.figure.Figure at 0x7ff7c0a70160>"
      ]
     },
     "metadata": {},
     "output_type": "display_data"
    }
   ],
   "source": [
    "DataExploration.showSeriesWordCloud(df_lots[df_lots['manufacturer_normalized'].notnull()].loc[:100000,'manufacturer_normalized'])"
   ]
  },
  {
   "cell_type": "code",
   "execution_count": null,
   "metadata": {
    "collapsed": false,
    "deletable": true,
    "editable": true
   },
   "outputs": [],
   "source": [
    "[i for i in df_lots[df_lots['manufacturer_normalized'].notnull()]['manufacturer_normalized'] if i.startswith('U')]"
   ]
  },
  {
   "cell_type": "markdown",
   "metadata": {
    "deletable": true,
    "editable": true
   },
   "source": [
    "# Create category graph\n",
    "\n",
    "<i>Created objects: <strong>cats_graph</strong> (alias G) networkx DiGraph for categories</i>"
   ]
  },
  {
   "cell_type": "code",
   "execution_count": 10,
   "metadata": {
    "collapsed": true,
    "deletable": true,
    "editable": true
   },
   "outputs": [],
   "source": [
    "import networkx as nx"
   ]
  },
  {
   "cell_type": "code",
   "execution_count": 11,
   "metadata": {
    "collapsed": false,
    "deletable": true,
    "editable": true
   },
   "outputs": [
    {
     "data": {
      "text/plain": [
       "970"
      ]
     },
     "execution_count": 11,
     "metadata": {},
     "output_type": "execute_result"
    }
   ],
   "source": [
    "df_categories['_id'].size"
   ]
  },
  {
   "cell_type": "code",
   "execution_count": 12,
   "metadata": {
    "collapsed": false,
    "deletable": true,
    "editable": true
   },
   "outputs": [],
   "source": [
    "cats_graph = nx.DiGraph()\n",
    "rootNode = \"root\"\n",
    "\n",
    "def fill_category_graph(cats_graph,numberOfElements=1000):\n",
    "    for toNode,fromNode in zip(df_categories['_id'].values,df_categories['parent_id'].values):\n",
    "        if fromNode != fromNode:#to check the null\n",
    "            cats_graph.add_edge(rootNode,str(toNode))\n",
    "        else:\n",
    "            cats_graph.add_edge(fromNode,str(toNode))\n",
    "\n",
    "fill_category_graph(cats_graph)          "
   ]
  },
  {
   "cell_type": "code",
   "execution_count": null,
   "metadata": {
    "collapsed": false,
    "deletable": true,
    "editable": true
   },
   "outputs": [],
   "source": [
    "nx.draw(cats_graph)"
   ]
  },
  {
   "cell_type": "code",
   "execution_count": null,
   "metadata": {
    "collapsed": false,
    "deletable": true,
    "editable": true
   },
   "outputs": [],
   "source": [
    "y = nx.degree_histogram(cats_graph)\n",
    "x = np.arange(len(y))"
   ]
  },
  {
   "cell_type": "code",
   "execution_count": null,
   "metadata": {
    "collapsed": false,
    "deletable": true,
    "editable": true
   },
   "outputs": [],
   "source": [
    "sns.barplot(x,[math.log(i+1) for i in y])"
   ]
  },
  {
   "cell_type": "code",
   "execution_count": null,
   "metadata": {
    "collapsed": false,
    "deletable": true,
    "editable": true
   },
   "outputs": [],
   "source": [
    "nx.info(cats_graph,n=misc_categorylabel)"
   ]
  },
  {
   "cell_type": "code",
   "execution_count": null,
   "metadata": {
    "collapsed": false,
    "deletable": true,
    "editable": true
   },
   "outputs": [],
   "source": [
    "nx.info(cats_graph,n=\"531600b378f860d0398b457a\")"
   ]
  },
  {
   "cell_type": "code",
   "execution_count": null,
   "metadata": {
    "collapsed": false,
    "deletable": true,
    "editable": true
   },
   "outputs": [],
   "source": [
    "cats_graph.subgraph(\"531600ae78f860d0398b4567\")"
   ]
  },
  {
   "cell_type": "markdown",
   "metadata": {
    "collapsed": true,
    "deletable": true,
    "editable": true
   },
   "source": [
    "### Total number of nodes"
   ]
  },
  {
   "cell_type": "code",
   "execution_count": 69,
   "metadata": {
    "collapsed": false,
    "deletable": true,
    "editable": true,
    "scrolled": true
   },
   "outputs": [
    {
     "data": {
      "text/plain": [
       "971"
      ]
     },
     "execution_count": 69,
     "metadata": {},
     "output_type": "execute_result"
    }
   ],
   "source": [
    "cats_graph.number_of_nodes()"
   ]
  },
  {
   "cell_type": "markdown",
   "metadata": {
    "collapsed": true,
    "deletable": true,
    "editable": true
   },
   "source": [
    "### Total number of leaves"
   ]
  },
  {
   "cell_type": "code",
   "execution_count": 13,
   "metadata": {
    "collapsed": false,
    "deletable": true,
    "editable": true
   },
   "outputs": [
    {
     "data": {
      "text/plain": [
       "865"
      ]
     },
     "execution_count": 13,
     "metadata": {},
     "output_type": "execute_result"
    }
   ],
   "source": [
    "G = cats_graph\n",
    "len([x for x in G.nodes_iter() if G.out_degree(x)==0 and G.in_degree(x)==1])"
   ]
  },
  {
   "cell_type": "markdown",
   "metadata": {
    "deletable": true,
    "editable": true
   },
   "source": [
    "### Total number of the 3rd level categories"
   ]
  },
  {
   "cell_type": "code",
   "execution_count": 90,
   "metadata": {
    "collapsed": false,
    "deletable": true,
    "editable": true
   },
   "outputs": [
    {
     "data": {
      "text/plain": [
       "653"
      ]
     },
     "execution_count": 90,
     "metadata": {},
     "output_type": "execute_result"
    }
   ],
   "source": [
    "len([v for v in nx.shortest_path_length(G,rootNode).values() if v==3])"
   ]
  },
  {
   "cell_type": "code",
   "execution_count": null,
   "metadata": {
    "collapsed": false,
    "deletable": true,
    "editable": true
   },
   "outputs": [],
   "source": [
    "nx.shortest_path_length(G,rootNode)"
   ]
  },
  {
   "cell_type": "markdown",
   "metadata": {
    "collapsed": true,
    "deletable": true,
    "editable": true
   },
   "source": [
    "### High level categories"
   ]
  },
  {
   "cell_type": "code",
   "execution_count": 70,
   "metadata": {
    "collapsed": false,
    "deletable": true,
    "editable": true,
    "scrolled": false
   },
   "outputs": [
    {
     "data": {
      "text/plain": [
       "35"
      ]
     },
     "execution_count": 70,
     "metadata": {},
     "output_type": "execute_result"
    }
   ],
   "source": [
    "len(cats_graph[rootNode])"
   ]
  },
  {
   "cell_type": "code",
   "execution_count": null,
   "metadata": {
    "collapsed": true,
    "deletable": true,
    "editable": true
   },
   "outputs": [],
   "source": [
    "del x,y"
   ]
  },
  {
   "cell_type": "markdown",
   "metadata": {
    "deletable": true,
    "editable": true
   },
   "source": [
    "<p id =\"preprocess_sample_data\" />\n",
    "# Preprocessing Data for exploration and further use"
   ]
  },
  {
   "cell_type": "markdown",
   "metadata": {
    "deletable": true,
    "editable": true
   },
   "source": [
    "Created objects:<br>\n",
    "<ul>\n",
    "<li><strong>oldNodes</strong>: not existing categories</li>\n",
    "<li><strong>a</strong>: the distances between root and each category</li>\n",
    "</ul>\n",
    "Updated objects:<br>\n",
    "<ul>\n",
    "<li><strong>df_lots</strong>: not existing categories</li>\n",
    "</ul>"
   ]
  },
  {
   "cell_type": "code",
   "execution_count": 14,
   "metadata": {
    "collapsed": false,
    "deletable": true,
    "editable": true
   },
   "outputs": [
    {
     "data": {
      "text/plain": [
       "2.5542168674698793"
      ]
     },
     "execution_count": 14,
     "metadata": {},
     "output_type": "execute_result"
    }
   ],
   "source": [
    "#Checking if categories on different levels\n",
    "a = []\n",
    "oldNodes = []\n",
    "for i in df_lots[target_column].unique():\n",
    "    if G.has_node(i):\n",
    "        a.append(nx.shortest_path_length(G,source=rootNode,target=i))\n",
    "        #totalNodes += 1\n",
    "    else:\n",
    "        oldNodes.append(i)\n",
    "        \n",
    "np.mean(a)"
   ]
  },
  {
   "cell_type": "code",
   "execution_count": 73,
   "metadata": {
    "collapsed": false,
    "deletable": true,
    "editable": true
   },
   "outputs": [
    {
     "name": "stdout",
     "output_type": "stream",
     "text": [
      "581\n"
     ]
    }
   ],
   "source": [
    "print(np.sum(np.array(a)<1000))"
   ]
  },
  {
   "cell_type": "markdown",
   "metadata": {
    "deletable": true,
    "editable": true
   },
   "source": [
    "#### Categories on 3 levels"
   ]
  },
  {
   "cell_type": "code",
   "execution_count": 72,
   "metadata": {
    "collapsed": false,
    "deletable": true,
    "editable": true
   },
   "outputs": [
    {
     "name": "stdout",
     "output_type": "stream",
     "text": [
      "1 =  30\n",
      "2 =  199\n",
      "3 =  352\n"
     ]
    }
   ],
   "source": [
    "print(\"1 = \",np.sum(np.array(a) == 1))\n",
    "print(\"2 = \",np.sum(np.array(a) == 2))\n",
    "print(\"3 = \",np.sum(np.array(a) == 3))"
   ]
  },
  {
   "cell_type": "markdown",
   "metadata": {
    "deletable": true,
    "editable": true
   },
   "source": [
    "### Cut off uncategorised lots"
   ]
  },
  {
   "cell_type": "code",
   "execution_count": 15,
   "metadata": {
    "collapsed": false,
    "deletable": true,
    "editable": true
   },
   "outputs": [],
   "source": [
    "def cut_off_non_existing(df):\n",
    "    return df.loc[scipy.logical_not(df[target_column].isin(oldNodes))]\n",
    "\n",
    "df_lots = cut_off_non_existing(df_lots)"
   ]
  },
  {
   "cell_type": "markdown",
   "metadata": {
    "deletable": true,
    "editable": true
   },
   "source": [
    "### Train and test split\n",
    "\n",
    "X_train, X_test, y_train, y_test"
   ]
  },
  {
   "cell_type": "code",
   "execution_count": 16,
   "metadata": {
    "collapsed": false,
    "deletable": true,
    "editable": true
   },
   "outputs": [],
   "source": [
    "X_train, X_test, y_train, y_test = train_test_split(df_lots.drop(target_column,axis=1), df_lots[target_column], test_size = 1-sample_of_rows_size/df_lots[target_column].size, stratify=df_lots[target_column], random_state=21)\n"
   ]
  },
  {
   "cell_type": "markdown",
   "metadata": {
    "deletable": true,
    "editable": true
   },
   "source": [
    "### Get full texts"
   ]
  },
  {
   "cell_type": "code",
   "execution_count": 36,
   "metadata": {
    "collapsed": false,
    "deletable": true,
    "editable": true
   },
   "outputs": [],
   "source": [
    "def cleanStr(s):\n",
    "    return textacy.preprocess.preprocess_text(str(s),fix_unicode=True, lowercase=False, transliterate=True,\n",
    "                    no_urls=True, no_emails=True, no_phone_numbers=True,\n",
    "                    no_numbers=True, no_currency_symbols=True, no_punct=True,\n",
    "                    no_contractions=True, no_accents=True)"
   ]
  },
  {
   "cell_type": "code",
   "execution_count": 22,
   "metadata": {
    "collapsed": false,
    "deletable": true,
    "editable": true
   },
   "outputs": [],
   "source": [
    "def get_numeric_fields(df):\n",
    "    return df.loc[:,numeric_columns_list].applymap(lambda x: x if type(x) == int else np.NaN)\n",
    "\n",
    "def get_en_text_fields(df):\n",
    "    return df.loc[:,set_of_cols_en].fillna(\"\")\n",
    "\n",
    "def get_de_text_fields(df):\n",
    "    return df.loc[:,set_of_cols_de].fillna(\"\")\n",
    "\n",
    "text_sum = lambda series : reduce(lambda x, y: cleanStr(x) +\" \" + cleanStr(y), series)\n",
    "\n",
    "def get_full_descriptions(df):\n",
    "    return pd.DataFrame({\"transtions.en.full.description\":get_en_text_fields(df).apply(text_sum,reduce = True, axis = 1).values, \n",
    "                         \"transtions.de.full.description\":get_de_text_fields(df).apply(text_sum,reduce = True, axis = 1).values})\n",
    "\n",
    "def get_full_en_descriptions(df):\n",
    "    return pd.Series(name=\"transtions.en.full.description\",data=get_en_text_fields(df).apply(text_sum,reduce = True, axis = 1).values)\n",
    "\n",
    "def get_full_de_descriptions(df):\n",
    "    return pd.Series(name=\"transtions.de.full.description\",data=get_de_text_fields(df).apply(text_sum,reduce = True, axis = 1).values)\n",
    "\n",
    "def get_non_translate_columns(df):\n",
    "    return df.loc[:,grouping_non_translate_columns].fillna(\"\")\n",
    "\n",
    "def get_categorical_values(df):\n",
    "    return pd.DataFrame({'country':pd.factorize(df['country'])[0], 'city':pd.factorize(df['city'])[0], 'lang':pd.factorize(df['lang'])[0], 'url':pd.factorize(df['url'].map(lambda x:urlparse(x).netloc, na_action='ignore'))[0]},dtype = 'category')\n",
    "\n",
    "#sample_df_lots.set_index(target_column,inplace=True)\n",
    "\n",
    "#sample_df_lots = sample_df_lots[grouping_non_translate_columns]"
   ]
  },
  {
   "cell_type": "markdown",
   "metadata": {
    "deletable": true,
    "editable": true
   },
   "source": [
    "#### Create labels for each level"
   ]
  },
  {
   "cell_type": "code",
   "execution_count": 16,
   "metadata": {
    "collapsed": false,
    "deletable": true,
    "editable": true
   },
   "outputs": [],
   "source": [
    "def findLevel(node,G,n):\n",
    "    if G.has_node(node):\n",
    "        shp = nx.shortest_path_length(G,source=rootNode,target=node)\n",
    "        res = np.full(3, node)\n",
    "        curNode = node\n",
    "        for i in range(3-shp+1,3):\n",
    "            curNode = G.predecessors(curNode)[0]\n",
    "            res[i] = curNode\n",
    "        return res[n]\n",
    "    else:\n",
    "        return node\n",
    "    \n",
    "assert findLevel(\"531600ae78f860d0398b4567\",G,1) == \"531600ae78f860d0398b4567\"\n",
    "assert findLevel(\"531600ae78f860d0398b4567\",G,0) == \"531600ae78f860d0398b4567\"\n",
    "assert findLevel(\"531600ae78f860d0398b4567\",G,2) == \"531600ae78f860d0398b4567\"\n",
    "\n",
    "assert findLevel(\"531600b378f860d0398b457a\",G,0) == \"531600b378f860d0398b457a\"\n",
    "assert findLevel(\"531600b378f860d0398b457a\",G,2) == \"531600ae78f860d0398b4567\"\n",
    "assert findLevel(\"531600b378f860d0398b457a\",G,1) == \"531600af78f860d0398b456c\""
   ]
  },
  {
   "cell_type": "code",
   "execution_count": 161,
   "metadata": {
    "collapsed": true,
    "deletable": true,
    "editable": true
   },
   "outputs": [],
   "source": [
    "def create_category_level_columns(df):\n",
    "    return pd.DataFrame({target_column+\"_2\":df[target_column].apply(findLevel,args=(G,1)).values, \n",
    "                        target_column+\"_3\":df[target_column].apply(findLevel,args=(G,2)).values})\n",
    "\n",
    "def create_category_level_columns_series(sr):\n",
    "    return pd.DataFrame({target_column+\"_2\":sr.apply(findLevel,args=(G,1)).values, \n",
    "                        target_column+\"_3\":sr.apply(findLevel,args=(G,2)).values})\n",
    "\n",
    "#sample_df_lots[target_column+\"_2\"] = sample_df_lots[target_column].apply(findLevel,args=(G,1))\n",
    "#sample_df_lots[target_column+\"_3\"] = sample_df_lots[target_column].apply(findLevel,args=(G,2))\n",
    "\n",
    "y_train_s = create_category_level_columns_series(y_train)\n",
    "y_test_s = create_category_level_columns_series(y_test)\n",
    "\n",
    "y_train_2 = y_train_s[target_column+\"_2\"]\n",
    "y_train_3 = y_train_s[target_column+\"_3\"]\n",
    "\n",
    "y_test_2 = y_test_s[target_column+\"_2\"]\n",
    "y_test_3 = y_test_s[target_column+\"_3\"]"
   ]
  },
  {
   "cell_type": "code",
   "execution_count": null,
   "metadata": {
    "collapsed": false,
    "deletable": true,
    "editable": true
   },
   "outputs": [],
   "source": [
    "# print(\"3rd level \",sample_df_lots[target_column].unique().shape)\n",
    "# print(\"2nd level \",sample_df_lots[target_column+\"_2\"].unique().shape)\n",
    "# print(\"1st level \",sample_df_lots[target_column+\"_3\"].unique().shape)"
   ]
  },
  {
   "cell_type": "code",
   "execution_count": null,
   "metadata": {
    "collapsed": false,
    "deletable": true,
    "editable": true
   },
   "outputs": [],
   "source": [
    "def factorize_target(df):\n",
    "    return df.loc[:,[target_column,target_column+\"_2\",target_column+\"_3\"]].apply(lambda x:pd.factorize(x)[0]) #df[[target_column,target_column+\"_2\",target_column+\"_3\"]] =\n",
    "\n",
    "#sample_df_lots = factorize_target(df)"
   ]
  },
  {
   "cell_type": "markdown",
   "metadata": {
    "deletable": true,
    "editable": true
   },
   "source": [
    "# Corpuses"
   ]
  },
  {
   "cell_type": "code",
   "execution_count": 42,
   "metadata": {
    "collapsed": false,
    "deletable": true,
    "editable": true
   },
   "outputs": [],
   "source": [
    "grouped_titles_descriptions = pd.read_pickle(pickle_dir+\"grouped_by_cat_text_columns_full.pkl\")"
   ]
  },
  {
   "cell_type": "code",
   "execution_count": 152,
   "metadata": {
    "collapsed": false,
    "deletable": true,
    "editable": true
   },
   "outputs": [
    {
     "data": {
      "text/plain": [
       "Index(['foreign_category_label', 'machine_type', 'manufacturer',\n",
       "       'manufacturer_normalized', 'translations.de.description',\n",
       "       'translations.de.title', 'translations.en.description',\n",
       "       'translations.en.title', 'transtions.en.full.description',\n",
       "       'transtions.de.full.description'],\n",
       "      dtype='object')"
      ]
     },
     "execution_count": 152,
     "metadata": {},
     "output_type": "execute_result"
    }
   ],
   "source": [
    "grouped_titles_descriptions.columns"
   ]
  },
  {
   "cell_type": "code",
   "execution_count": null,
   "metadata": {
    "collapsed": false,
    "deletable": true,
    "editable": true
   },
   "outputs": [],
   "source": [
    "grouped_titles_descriptions['transtions.en.full.description'].apply(len).describe()"
   ]
  },
  {
   "cell_type": "markdown",
   "metadata": {
    "deletable": true,
    "editable": true
   },
   "source": [
    "### Generate text stream"
   ]
  },
  {
   "cell_type": "code",
   "execution_count": 43,
   "metadata": {
    "collapsed": true,
    "deletable": true,
    "editable": true
   },
   "outputs": [],
   "source": [
    "def seriesToDict(ser):\n",
    "    return [{\"key\":key,\"value\":value} for key, value in zip(ser.index,ser)]\n",
    "\n",
    "def streamAndMeta(ser):\n",
    "    return textacy.fileio.split_record_fields(seriesToDict(ser), 'value')\n",
    "\n",
    "def corpusFromSeriesDoc(ser,lang=\"en\"):\n",
    "    text_stream_en, metadata_stream_en = streamAndMeta(ser)\n",
    "    return textacy.Corpus(lang, docs=text_stream_en, metadatas = metadata_stream_en)\n",
    "\n",
    "def corpusFromSeriesText(ser,lang=\"en\"):\n",
    "    text_stream_en, metadata_stream_en = streamAndMeta(ser)\n",
    "    return textacy.Corpus(lang, texts=text_stream_en, metadatas = metadata_stream_en)"
   ]
  },
  {
   "cell_type": "markdown",
   "metadata": {
    "deletable": true,
    "editable": true
   },
   "source": [
    "## Phraser"
   ]
  },
  {
   "cell_type": "code",
   "execution_count": 44,
   "metadata": {
    "collapsed": false,
    "deletable": true,
    "editable": true
   },
   "outputs": [
    {
     "name": "stdout",
     "output_type": "stream",
     "text": [
      "Finish time Phraser =  1.7448158264160156\n"
     ]
    }
   ],
   "source": [
    "starttime = time.time()\n",
    "\n",
    "records_en = [{\"key\":key,\"value\":\"# \"+value} for key, value in grouped_titles_descriptions[\"transtions.en.full.description\"].to_dict().items()]\n",
    "records_de = [{\"key\":key,\"value\":\"# \"+value} for key, value in grouped_titles_descriptions[\"transtions.de.full.description\"].to_dict().items()]\n",
    "print(\"Finish time Phraser = \",time.time()-starttime)"
   ]
  },
  {
   "cell_type": "code",
   "execution_count": 45,
   "metadata": {
    "collapsed": false,
    "deletable": true,
    "editable": true
   },
   "outputs": [
    {
     "name": "stdout",
     "output_type": "stream",
     "text": [
      "Finish time  76.5110216140747\n"
     ]
    }
   ],
   "source": [
    "starttime = time.time()\n",
    "lang_records = {}\n",
    "lang_records['en'] = [f['value'].split(\" \") for f in records_en]\n",
    "lang_records['de'] = [f['value'].split(\" \") for f in records_de]\n",
    "print(\"Finish time \",time.time()-starttime)"
   ]
  },
  {
   "cell_type": "code",
   "execution_count": 27,
   "metadata": {
    "collapsed": false,
    "deletable": true,
    "editable": true
   },
   "outputs": [],
   "source": [
    "from sklearn.base import BaseEstimator, TransformerMixin\n",
    "class Cust_phraser(BaseEstimator, TransformerMixin):\n",
    "    def __init__(self, parse=True, lang=\"en\", min_count=20, threshold=7):\n",
    "        self.min_count = min_count\n",
    "        self.threshold = threshold\n",
    "        self.lang = lang\n",
    "        self.parse = parse\n",
    "    \n",
    "    def fit(self, x, y=None):\n",
    "        return self\n",
    "    \n",
    "    def transform(self, x):\n",
    "        if self.parse == False:\n",
    "            return x\n",
    "        \n",
    "        phrases = Phrases(lang_records[self.lang], min_count=self.min_count, threshold=self.threshold)\n",
    "        bigramPhraser = Phraser(phrases)\n",
    "        return x.map(lambda x:\" \".join(bigramPhraser[x.split(\" \")]))\n",
    "# less than 5 minutes"
   ]
  },
  {
   "cell_type": "markdown",
   "metadata": {
    "deletable": true,
    "editable": true
   },
   "source": [
    "<div id=\"features\"></div>\n",
    "# Feature engineering"
   ]
  },
  {
   "cell_type": "markdown",
   "metadata": {
    "deletable": true,
    "editable": true
   },
   "source": [
    "## Simple features"
   ]
  },
  {
   "cell_type": "code",
   "execution_count": null,
   "metadata": {
    "collapsed": false,
    "deletable": true,
    "editable": true
   },
   "outputs": [],
   "source": [
    "#DataExploration.showSeriesWordCloud(df_categories[\"translations.en.title\"])"
   ]
  },
  {
   "cell_type": "code",
   "execution_count": null,
   "metadata": {
    "collapsed": false,
    "deletable": true,
    "editable": true
   },
   "outputs": [],
   "source": [
    "#finalSDF = pd.DataFrame(pd.Series(np.zeros(sample_of_rows_size),index = finalDF.index.values.tolist()))"
   ]
  },
  {
   "cell_type": "code",
   "execution_count": 21,
   "metadata": {
    "collapsed": true,
    "deletable": true,
    "editable": true
   },
   "outputs": [],
   "source": [
    "from synsetsimilarity import synMatchWord, synMatchEmbedWord"
   ]
  },
  {
   "cell_type": "code",
   "execution_count": 22,
   "metadata": {
    "collapsed": false,
    "deletable": true,
    "editable": true
   },
   "outputs": [],
   "source": [
    "assert (math.floor(synMatchWord([(\"I\",\"NN\"),(\"loosing\",\"VB\"),(\"beautiful\",\"JJ\"),(\"competition\",\"NN\")],[(\"I\",\"NN\"),(\"love\",\"VB\"),(\"not\",\"DT\"),(\"ugly\",\"JJ\"),(\"competition\",\"NN\")]))==25),\"Synmatch is failed\"\n",
    "assert (math.floor(synMatchWord([(\"I\",\"NN\"),(\"look\",\"VB\"),(\"for\",\"PP\"),(\"beautiful\",\"JJ\"),(\"competition\",\"NN\")],[(\"I\",\"NN\"),(\"search\",\"VB\"),(\"not\",\"DT\"),(\"ugly\",\"JJ\"),(\"competition\",\"NN\")]))==0),\"Synmatch is failed\"\n",
    "#assert (math.floor(synMatchEmbedWord([\"Hen\",\"men\",\"beautiful\",\"competition\"],[\"Chicken\",\"women\",\"not\",\"ugly\",\"competition\"]))==25),\"Synmatch is failed\""
   ]
  },
  {
   "cell_type": "code",
   "execution_count": null,
   "metadata": {
    "collapsed": false,
    "deletable": true,
    "editable": true
   },
   "outputs": [],
   "source": [
    "#%timeit for i in range(1000000): fuzzMatch(\"stfasfasf1\",\"Fsasfasfasfasafsasf\",\"fasfsafsfasfa\")"
   ]
  },
  {
   "cell_type": "code",
   "execution_count": 25,
   "metadata": {
    "collapsed": false,
    "deletable": true,
    "editable": true,
    "scrolled": true
   },
   "outputs": [],
   "source": [
    "cachedir = mkdtemp()\n",
    "memory = Memory(cachedir=cachedir, verbose=0)\n",
    "\n",
    "def synMatch(st1,st21,st22,threshold):\n",
    "    try:\n",
    "        st1 = nltk.pos_tag(st1.split(\" \"))\n",
    "        st21 = nltk.pos_tag(st21.split(\" \"))\n",
    "        st22 = nltk.pos_tag(st22.split(\" \"))\n",
    "        res = max((synMatchWord(st1,st21),synMatchWord(st1,st22)))\n",
    "    except:\n",
    "        res = 0\n",
    "    if res > threshold:\n",
    "        return 1\n",
    "    else:\n",
    "        return 0\n",
    "    \n",
    "memory.cache(func=synMatch)\n",
    "\n",
    "def fuzzMatch(st1,st21,st22,threshold):\n",
    "    try:\n",
    "        res = max((fuzz.ratio(st1,st21),fuzz.ratio(st1,st22)))\n",
    "    except:\n",
    "        res = 0\n",
    "    if res > threshold:\n",
    "        return 1\n",
    "    else:\n",
    "        return 0\n",
    "memory.cache(func=fuzzMatch)\n",
    "    \n",
    "def fuzzMatchPercent(st1,st21,st22,threshold):\n",
    "    try:\n",
    "        res = max((fuzz.ratio(st1,st21),fuzz.ratio(st1,st22)))\n",
    "    except:\n",
    "        res = 0\n",
    "    return res\n",
    "    \n",
    "memory.cache(func=fuzzMatchPercent)\n",
    "\n",
    "def build_for_cat_matching_feat(df, f=fuzzMatchPercent, thres=70, categories_df=df_categories, col=\"foreign_category_label\"):\n",
    "    gen = categories_df[[\"translations.en.title\",\"translations.de.title\"]].iterrows()\n",
    "    return pd.DataFrame({ \"foreign_cat_match\"+str(row[0]):df[col].apply(f,args=(row[1][0],row[1][1],thres)) for row in gen},index=df.index)\n",
    "\n",
    "\n",
    "class Cust_cat_fuzz_matcher(BaseEstimator, TransformerMixin):\n",
    "    def __init__(self, threshold=77):\n",
    "        self.threshold = threshold\n",
    "    \n",
    "    def fit(self, x, y=None):\n",
    "        return self\n",
    "        \n",
    "    def transform(self, x):\n",
    "        return build_for_cat_matching_feat(x,fuzzMatch,self.threshold)\n",
    "    \n",
    "class Cust_cat_fuzz_matcher_percent(BaseEstimator, TransformerMixin):\n",
    "    def __init__(self, threshold=77):\n",
    "        self.threshold = threshold\n",
    "    \n",
    "    def fit(self, x, y=None):\n",
    "        return self\n",
    "        \n",
    "    def transform(self, x):\n",
    "        return build_for_cat_matching_feat(x,fuzzMatchPercent,self.threshold)\n",
    "    \n",
    "    \n",
    "class Cust_cat_syn_matcher(BaseEstimator, TransformerMixin):\n",
    "    def __init__(self, threshold=70):\n",
    "        self.threshold = threshold\n",
    "    \n",
    "    def fit(self, x, y=None):\n",
    "        return self\n",
    "    \n",
    "    def transform(self, x):\n",
    "        return build_for_cat_matching_feat(x,synMatch,self.threshold)\n",
    "    \n",
    "\n",
    "\n",
    "def inDesc(st1,st21,st22):\n",
    "    try:\n",
    "        res = max(st1.find(st21),st1.find(st22))\n",
    "    except:\n",
    "        res = 0\n",
    "    if res > -1:\n",
    "        return 1\n",
    "    else:\n",
    "        return 0\n",
    "\n",
    "\n",
    "#gen = df_categories[[\"translations.en.title\",\"translations.de.title\"]].iterrows()\n",
    "#for row in gen:\n",
    "#    finalSDF[\"foreign_cat_match\"+str(row[0])] = lots_sample_df[\"foreign_category_label\"].apply(fuzzMatch,args=(row[1][0],row[1][1]))"
   ]
  },
  {
   "cell_type": "code",
   "execution_count": 50,
   "metadata": {
    "collapsed": true,
    "deletable": true,
    "editable": true
   },
   "outputs": [],
   "source": [
    "test1 = Cust_cat_fuzz_matcher(threshold=90)"
   ]
  },
  {
   "cell_type": "code",
   "execution_count": 46,
   "metadata": {
    "collapsed": false,
    "deletable": true,
    "editable": true
   },
   "outputs": [
    {
     "name": "stdout",
     "output_type": "stream",
     "text": [
      "1 loop, best of 3: 6min 24s per loop\n"
     ]
    }
   ],
   "source": [
    "%timeit build_for_cat_matching_feat(X_train.iloc[:100],synMatch,70) #6:24\n",
    "%timeit build_for_cat_matching_feat(X_train.iloc[:10000],fuzzMatch,70) #1:24"
   ]
  },
  {
   "cell_type": "markdown",
   "metadata": {
    "deletable": true,
    "editable": true
   },
   "source": [
    "<div id=\"advanced_features\"></div>\n",
    "## Advanced features"
   ]
  },
  {
   "cell_type": "markdown",
   "metadata": {
    "deletable": true,
    "editable": true
   },
   "source": [
    "# Word vectors"
   ]
  },
  {
   "cell_type": "code",
   "execution_count": null,
   "metadata": {
    "collapsed": false,
    "deletable": true,
    "editable": true
   },
   "outputs": [],
   "source": [
    "w2vDocmodel = {}\n",
    "for k,corpus in corpuses:\n",
    "    w2vDocmodel[k] += [word2vec.Word2Vec(doc.tokenized_text, size=64, window=5, min_count=1, workers=10, hs=1, negative=0)  for doc in corpus]"
   ]
  },
  {
   "cell_type": "code",
   "execution_count": null,
   "metadata": {
    "collapsed": true,
    "deletable": true,
    "editable": true
   },
   "outputs": [],
   "source": [
    "np.avg([1,2,3])"
   ]
  },
  {
   "cell_type": "code",
   "execution_count": null,
   "metadata": {
    "collapsed": false,
    "deletable": true,
    "editable": true
   },
   "outputs": [],
   "source": [
    "#corpuses['normal.en'][1][:20]"
   ]
  },
  {
   "cell_type": "code",
   "execution_count": null,
   "metadata": {
    "collapsed": false,
    "deletable": true,
    "editable": true
   },
   "outputs": [],
   "source": [
    "for w2vectorDocs in w2vDocmodel[\"normal.en\"]:\n",
    "    for i,w2vectorDoc in enumerate(w2vectorDocs):\n",
    "        finalSDF[\"w2v\"+str(i)] = sample_df_lots[\"translations.en.full.description\"].apply(lambda x:w2vectorDoc.score([x.split(\" \")])[0])"
   ]
  },
  {
   "cell_type": "code",
   "execution_count": null,
   "metadata": {
    "collapsed": true,
    "deletable": true,
    "editable": true
   },
   "outputs": [],
   "source": [
    "w2vPharsermodel = word2vec.Word2Vec(bigramPhraser[corpuses['normal.en'].text], size = 50)\n"
   ]
  },
  {
   "cell_type": "markdown",
   "metadata": {
    "deletable": true,
    "editable": true
   },
   "source": [
    "<p id=\"prediction\"/>\n",
    "# Prediction"
   ]
  },
  {
   "cell_type": "code",
   "execution_count": 199,
   "metadata": {
    "collapsed": false,
    "deletable": true,
    "editable": true
   },
   "outputs": [
    {
     "data": {
      "text/plain": [
       "Pipeline(steps=[('selector', FunctionTransformer(accept_sparse=False,\n",
       "          func=<function get_full_en_descriptions at 0x7f396afbfa60>,\n",
       "          inv_kw_args=None, inverse_func=None, kw_args=None, pass_y=False,\n",
       "          validate=False)), ('phraser', Cust_phraser(lang='en', min_count=20, parse=True, thre...runcatedSVD(algorithm='randomized', n_components=500, n_iter=5,\n",
       "       random_state=None, tol=0.0))])"
      ]
     },
     "execution_count": 199,
     "metadata": {},
     "output_type": "execute_result"
    }
   ],
   "source": [
    "eng_desc_features123 = ('fd_features', Pipeline([\n",
    "                    ('selector', FunctionTransformer(get_full_en_descriptions,validate=False)),\n",
    "                    ('phraser',Cust_phraser()),\n",
    "                    ('vectorizer', TfidfVectorizer()),\n",
    "                    ('dim_red', TruncatedSVD(n_components=500))\n",
    "                ]) )\n",
    "\n",
    "eng_desc_features123[1].fit(X_train,y_train)"
   ]
  },
  {
   "cell_type": "code",
   "execution_count": null,
   "metadata": {
    "collapsed": true,
    "deletable": true,
    "editable": true
   },
   "outputs": [],
   "source": [
    "p_numeric = ('numeric_fields', Pipeline([\n",
    "                    ('selector', FunctionTransformer(get_numeric_fields,validate=False)),\n",
    "                    ('imputer', Imputer(missing_values=np.NaN, strategy=\"mean\", axis=0))\n",
    "                ]))\n",
    "\n",
    "eng_desc_features = ('fd_features', Pipeline([\n",
    "                    ('selector', FunctionTransformer(get_full_en_descriptions,validate=False)),\n",
    "                    ('phraser',Cust_phraser()),\n",
    "                    ('vectorizer', TfidfVectorizer()),\n",
    "                    ('dim_red', TruncatedSVD())\n",
    "                ]) )\n",
    "\n",
    "#hierarchy_features = ('')\n",
    "\n",
    "categorical_features = ('cat_features', Pipeline([\n",
    "                    ('selector', FunctionTransformer(get_categorical_values,validate=False)),\n",
    "                    ('imputer', Imputer(missing_values=-1,strategy=\"most_frequent\"))\n",
    "                    \n",
    "                ]))\n",
    "\n",
    "simple_features = (\"simple_features\", Pipeline(\n",
    "    [\n",
    "        ('selector', Cust_cat_fuzz_matcher_percent()),\n",
    "        ('dim_red',PCA())\n",
    "    ]))\n",
    "\n",
    "clf = RandomForestClassifier()\n",
    "\n",
    "\n",
    "pl = Pipeline([\n",
    "        ('union', FeatureUnion(\n",
    "            transformer_list = [\n",
    "                p_numeric\n",
    "                ,eng_desc_features\n",
    "                ,categorical_features\n",
    "                ,simple_features\n",
    "             ],\n",
    "            n_jobs = 20\n",
    "        )),\n",
    "        #('int', SparseInteractions(degree=2)),\n",
    "        ('scale', StandardScaler()),\n",
    "        ('clf', clf)#OneVsRestClassifier(LogisticRegression()) #SGDClassifier\n",
    "    ])\n",
    "\n",
    "\n",
    "parameters = {\n",
    "    'union__simple_features__dim_red__n_components':[100,300,500,800],\n",
    "    'union__numeric_fields__imputer__strategy':['mean','median'],\n",
    "    'union__fd_features__vectorizer__ngram_range':[(1,3)],\n",
    "    'union__fd_features__vectorizer__max_features':[1501,2500],\n",
    "    'union__fd_features__vectorizer__stop_words':[\"english\"],\n",
    "    'union__fd_features__vectorizer__lowercase':[False,True],\n",
    "    'union__fd_features__vectorizer__analyzer':['word'], \n",
    "    'union__fd_features__vectorizer__token_pattern':[r'\\w+'],\n",
    "    'union__fd_features__vectorizer__use_idf':[True,False], \n",
    "    'union__fd_features__vectorizer__smooth_idf':[True,False], \n",
    "    'union__fd_features__vectorizer__sublinear_tf':[True,False],\n",
    "    'union__fd_features__phraser__min_count':[20,50,500,1000],\n",
    "    'union__fd_features__phraser__parse':[True,False],\n",
    "    'union__fd_features__phraser__threshold':[7,70,200],\n",
    "    'union__fd_features__dim_red__n_components':[100,500,1000,1500], #increase    \n",
    "    'union__fd_features__dim_red__n_iter':[7],\n",
    "    'union__transformer_weights': [{\"numeric_fields\":1,\"fd_features\":8,\"cat_features\":5,\"simple_features\":10},\n",
    "                                {\"numeric_fields\":2,\"fd_features\":6,\"cat_features\":3,\"simple_features\":4},\n",
    "                                {\"numeric_fields\":1,\"fd_features\":2,\"cat_features\":3,\"simple_features\":3}],\n",
    "    'clf__n_estimators': [25, 50, 250, 500],\n",
    "    'clf__max_features': ['auto', 'sqrt', 'log2'],\n",
    "    'clf__bootstrap':[True,False],\n",
    "    'clf__min_samples_leaf':[20,100,300]\n",
    "}"
   ]
  },
  {
   "cell_type": "code",
   "execution_count": 211,
   "metadata": {
    "collapsed": false,
    "deletable": true,
    "editable": true
   },
   "outputs": [],
   "source": [
    "grid_search = RandomizedSearchCV(pl, parameters, n_jobs=45, verbose=1,n_iter=20)"
   ]
  },
  {
   "cell_type": "code",
   "execution_count": 70,
   "metadata": {
    "collapsed": false,
    "deletable": true,
    "editable": true
   },
   "outputs": [],
   "source": [
    "X_train_val = X_train.iloc[:100,:]\n",
    "y_train_val = y_train.iloc[:100]"
   ]
  },
  {
   "cell_type": "code",
   "execution_count": null,
   "metadata": {
    "collapsed": false,
    "deletable": true,
    "editable": true
   },
   "outputs": [],
   "source": [
    "grid_search.fit(X_train_val,y_train_val) #20 sec for 100"
   ]
  },
  {
   "cell_type": "code",
   "execution_count": null,
   "metadata": {
    "collapsed": false,
    "deletable": true,
    "editable": true
   },
   "outputs": [],
   "source": [
    "pl.score(X_test.iloc[:100000,:],y_test.iloc[:100000])\n",
    "\n",
    "# 95%"
   ]
  },
  {
   "cell_type": "code",
   "execution_count": 34,
   "metadata": {
    "collapsed": false,
    "deletable": true,
    "editable": true
   },
   "outputs": [
    {
     "data": {
      "text/plain": [
       "(100000, 79)"
      ]
     },
     "execution_count": 34,
     "metadata": {},
     "output_type": "execute_result"
    }
   ],
   "source": [
    "X_test.iloc[:100000,:].shape"
   ]
  },
  {
   "cell_type": "code",
   "execution_count": 23,
   "metadata": {
    "collapsed": true,
    "deletable": true,
    "editable": true
   },
   "outputs": [],
   "source": [
    "from sklearn.metrics import log_loss\n",
    "from sklearn.externals import joblib"
   ]
  },
  {
   "cell_type": "code",
   "execution_count": 28,
   "metadata": {
    "collapsed": false,
    "deletable": true,
    "editable": true
   },
   "outputs": [],
   "source": [
    "grid_search = joblib.load('randomforest_randomized.pkl')"
   ]
  },
  {
   "cell_type": "code",
   "execution_count": 31,
   "metadata": {
    "collapsed": false,
    "deletable": true,
    "editable": true
   },
   "outputs": [
    {
     "data": {
      "text/plain": [
       "{'clf__bootstrap': False,\n",
       " 'clf__max_features': 'sqrt',\n",
       " 'clf__min_samples_leaf': 20,\n",
       " 'clf__n_estimators': 500,\n",
       " 'union__fd_features__dim_red__n_components': 1000,\n",
       " 'union__fd_features__dim_red__n_iter': 7,\n",
       " 'union__fd_features__phraser__min_count': 50,\n",
       " 'union__fd_features__phraser__parse': True,\n",
       " 'union__fd_features__phraser__threshold': 7,\n",
       " 'union__fd_features__vectorizer__analyzer': 'word',\n",
       " 'union__fd_features__vectorizer__lowercase': True,\n",
       " 'union__fd_features__vectorizer__max_features': 2500,\n",
       " 'union__fd_features__vectorizer__ngram_range': (1, 3),\n",
       " 'union__fd_features__vectorizer__smooth_idf': False,\n",
       " 'union__fd_features__vectorizer__stop_words': 'english',\n",
       " 'union__fd_features__vectorizer__sublinear_tf': True,\n",
       " 'union__fd_features__vectorizer__token_pattern': '\\\\w+',\n",
       " 'union__fd_features__vectorizer__use_idf': False,\n",
       " 'union__numeric_fields__imputer__strategy': 'median',\n",
       " 'union__simple_features__dim_red__n_components': 300,\n",
       " 'union__transformer_weights': {'cat_features': 3,\n",
       "  'fd_features': 2,\n",
       "  'numeric_fields': 1,\n",
       "  'simple_features': 3}}"
      ]
     },
     "execution_count": 31,
     "metadata": {},
     "output_type": "execute_result"
    }
   ],
   "source": [
    "grid_search.best_params_"
   ]
  },
  {
   "cell_type": "code",
   "execution_count": 50,
   "metadata": {
    "collapsed": false,
    "deletable": true,
    "editable": true
   },
   "outputs": [
    {
     "data": {
      "text/plain": [
       "RandomizedSearchCV(cv=None, error_score='raise',\n",
       "          estimator=Pipeline(steps=[('union', FeatureUnion(n_jobs=20,\n",
       "       transformer_list=[('numeric_fields', Pipeline(steps=[('selector', FunctionTransformer(accept_sparse=False,\n",
       "          func=<function get_numeric_fields at 0x7ff58e157158>,\n",
       "          inv_kw_args=None, inverse_func=None, kw_args=None, pass_y=False,\n",
       "      ...imators=10, n_jobs=1, oob_score=False, random_state=None,\n",
       "            verbose=0, warm_start=False))]),\n",
       "          fit_params={}, iid=True, n_iter=20, n_jobs=45,\n",
       "          param_distributions={'union__fd_features__dim_red__n_components': [100, 500, 1000, 1500], 'union__fd_features__vectorizer__ngram_range': [(1, 3)], 'union__fd_features__phraser__threshold': [7, 70, 200], 'union__simple_features__dim_red__n_components': [100, 300, 500, 800], 'union__transformer_weight...nion__fd_features__dim_red__n_iter': [7], 'union__fd_features__vectorizer__stop_words': ['english']},\n",
       "          pre_dispatch='2*n_jobs', random_state=None, refit=True,\n",
       "          return_train_score=True, scoring=None, verbose=1)"
      ]
     },
     "execution_count": 50,
     "metadata": {},
     "output_type": "execute_result"
    }
   ],
   "source": [
    "grid_search"
   ]
  },
  {
   "cell_type": "code",
   "execution_count": 52,
   "metadata": {
    "collapsed": false,
    "deletable": true,
    "editable": true
   },
   "outputs": [
    {
     "data": {
      "text/plain": [
       "array(['54c641e2c45f9d34298b45be', '533944c678f860267f8b45e6',\n",
       "       '54c641e5c45f9d34298b45fa', ..., '533944b378f860267f8b458e',\n",
       "       '589dbab7933d172915520666', '533944b078f860267f8b457e'], dtype=object)"
      ]
     },
     "execution_count": 52,
     "metadata": {},
     "output_type": "execute_result"
    }
   ],
   "source": [
    "grid_search.predict(X_test.iloc[:10000,:])"
   ]
  },
  {
   "cell_type": "code",
   "execution_count": 67,
   "metadata": {
    "collapsed": true,
    "deletable": true,
    "editable": true
   },
   "outputs": [],
   "source": [
    "#X_train, X_test, y_train, y_test = train_test_split(df_lots.drop(target_column,axis=1), df_lots[target_column], test_size = 1-sample_of_rows_size/df_lots[target_column].size, stratify=df_lots[target_column], random_state=21)\n",
    "\n",
    "clf_probs = grid_search.predict_proba(X_test.iloc[:100000,:])"
   ]
  },
  {
   "cell_type": "code",
   "execution_count": 63,
   "metadata": {
    "collapsed": false,
    "deletable": true,
    "editable": true
   },
   "outputs": [
    {
     "data": {
      "text/plain": [
       "(10000, 581)"
      ]
     },
     "execution_count": 63,
     "metadata": {},
     "output_type": "execute_result"
    }
   ],
   "source": [
    "clf_probs.shape"
   ]
  },
  {
   "cell_type": "code",
   "execution_count": 68,
   "metadata": {
    "collapsed": false,
    "deletable": true,
    "editable": true,
    "scrolled": true
   },
   "outputs": [
    {
     "name": "stdout",
     "output_type": "stream",
     "text": [
      "LogLoss = \n",
      "0.828481559673\n"
     ]
    }
   ],
   "source": [
    "score = log_loss(y_test.iloc[:100000], clf_probs, labels = df_lots[target_column].unique())\n",
    "print(\"LogLoss = \")\n",
    "print(score)"
   ]
  }
 ],
 "metadata": {
  "kernelspec": {
   "display_name": "Python 3",
   "language": "python",
   "name": "python3"
  },
  "language_info": {
   "codemirror_mode": {
    "name": "ipython",
    "version": 3
   },
   "file_extension": ".py",
   "mimetype": "text/x-python",
   "name": "python",
   "nbconvert_exporter": "python",
   "pygments_lexer": "ipython3",
   "version": "3.5.2"
  }
 },
 "nbformat": 4,
 "nbformat_minor": 2
}
